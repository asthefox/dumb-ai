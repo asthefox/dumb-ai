{
 "cells": [
  {
   "cell_type": "markdown",
   "metadata": {},
   "source": [
    "# Fantasy or Sci-Fi?\n",
    "\n",
    "Are you not sure about whether a book is more fantasy or sci-fi?  This hastily made *and highly advanced* model will give you a definitive answer."
   ]
  },
  {
   "cell_type": "code",
   "execution_count": 8,
   "metadata": {},
   "outputs": [],
   "source": [
    "# Imports\n",
    "from fastai.vision.all import *",
    "from fastai2.vision.widgets import *"
   ]
  },
  {
   "cell_type": "code",
   "execution_count": 7,
   "metadata": {},
   "outputs": [],
   "source": [
    "# Classifier Import\n",
    "learn_inf = load_learner('book_covers_v4.pkl')\n"
   ]
  },
  {
   "cell_type": "code",
   "execution_count": null,
   "metadata": {},
   "outputs": [],
   "source": [
    "# App Definitions\n",
    "app_title = widgets.Label(\"Book Judger\")\n",
    "app_prompt = widgets.Label(\"Upload the cover of a book to find out if it is fantasy or sci-fi.\")\n",
    "app_pred = widgets.Label(\"???\")\n",
    "app_prob = widgets.Label(\"\")\n",
    "\n",
    "app_output = widgets.Output()\n",
    "btn_upload = widgets.FileUpload()\n",
    "btn_run = widgets.Button(description='Identify')\n",
    "\n",
    "def on_click_run(change):\n",
    "    img = PILImage.create(btn_upload.data[-1])\n",
    "    app_output.clear_output()\n",
    "    with app_output: display(img.to_thumb(128,128))\n",
    "    pred,pred_idx,probs = learn_inf.predict(img)\n",
    "    app_pred.value = 'Genre: ' + pred\n",
    "    app_prob.value = f'Probability: {(probs[pred_idx] * 100):.02f}%'\n",
    "\n",
    "btn_run.on_click(on_click_run)\n"
   ]
  },
  {
   "cell_type": "code",
   "execution_count": null,
   "metadata": {},
   "outputs": [],
   "source": [
    "# App Display\n",
    "VBox([#app_title, \n",
    "      app_prompt,\n",
    "      btn_upload, btn_run, app_output, app_pred, app_prob])"
   ]
  },
  {
   "cell_type": "markdown",
   "metadata": {},
   "source": [
    "---\n",
    "Made by Laika Fawkes using fastai and PyTorch"
   ]
  }
 ],
 "metadata": {
  "kernelspec": {
   "display_name": "Python 3",
   "language": "python",
   "name": "python3"
  },
  "language_info": {
   "codemirror_mode": {
    "name": "ipython",
    "version": 3
   },
   "file_extension": ".py",
   "mimetype": "text/x-python",
   "name": "python",
   "nbconvert_exporter": "python",
   "pygments_lexer": "ipython3",
   "version": "3.8.6"
  }
 },
 "nbformat": 4,
 "nbformat_minor": 4
}
